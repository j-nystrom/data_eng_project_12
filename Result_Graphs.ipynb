{
 "cells": [
  {
   "cell_type": "code",
   "execution_count": 1,
   "id": "ef42bbb7",
   "metadata": {},
   "outputs": [],
   "source": [
    "import pandas as pd\n",
    "from pyvis.network import Network\n",
    "import math\n",
    "import seaborn as sns\n",
    "import matplotlib.pyplot as plt\n",
    "from PIL import Image\n",
    "from io import BytesIO"
   ]
  },
  {
   "cell_type": "code",
   "execution_count": 4,
   "id": "98593264",
   "metadata": {},
   "outputs": [],
   "source": [
    "parq_data = pd.read_parquet(\"Strong_scaling/output.parquet\")"
   ]
  },
  {
   "cell_type": "code",
   "execution_count": 5,
   "id": "81550189",
   "metadata": {},
   "outputs": [
    {
     "data": {
      "text/html": [
       "<div>\n",
       "<style scoped>\n",
       "    .dataframe tbody tr th:only-of-type {\n",
       "        vertical-align: middle;\n",
       "    }\n",
       "\n",
       "    .dataframe tbody tr th {\n",
       "        vertical-align: top;\n",
       "    }\n",
       "\n",
       "    .dataframe thead th {\n",
       "        text-align: right;\n",
       "    }\n",
       "</style>\n",
       "<table border=\"1\" class=\"dataframe\">\n",
       "  <thead>\n",
       "    <tr style=\"text-align: right;\">\n",
       "      <th></th>\n",
       "      <th>subred_tuples</th>\n",
       "      <th>tuple_count</th>\n",
       "      <th>tup_1</th>\n",
       "      <th>tup_2</th>\n",
       "      <th>tup_1_count</th>\n",
       "      <th>tup_2_count</th>\n",
       "    </tr>\n",
       "  </thead>\n",
       "  <tbody>\n",
       "    <tr>\n",
       "      <th>146495</th>\n",
       "      <td>[AskReddit, reddit.com]</td>\n",
       "      <td>20289</td>\n",
       "      <td>AskReddit</td>\n",
       "      <td>reddit.com</td>\n",
       "      <td>558862</td>\n",
       "      <td>269354</td>\n",
       "    </tr>\n",
       "    <tr>\n",
       "      <th>622572</th>\n",
       "      <td>[AskReddit, pics]</td>\n",
       "      <td>17855</td>\n",
       "      <td>AskReddit</td>\n",
       "      <td>pics</td>\n",
       "      <td>558862</td>\n",
       "      <td>170566</td>\n",
       "    </tr>\n",
       "    <tr>\n",
       "      <th>52086</th>\n",
       "      <td>[pics, reddit.com]</td>\n",
       "      <td>17146</td>\n",
       "      <td>pics</td>\n",
       "      <td>reddit.com</td>\n",
       "      <td>170566</td>\n",
       "      <td>269354</td>\n",
       "    </tr>\n",
       "    <tr>\n",
       "      <th>573606</th>\n",
       "      <td>[AskReddit, WTF]</td>\n",
       "      <td>13206</td>\n",
       "      <td>AskReddit</td>\n",
       "      <td>WTF</td>\n",
       "      <td>558862</td>\n",
       "      <td>94708</td>\n",
       "    </tr>\n",
       "    <tr>\n",
       "      <th>256624</th>\n",
       "      <td>[WTF, reddit.com]</td>\n",
       "      <td>12994</td>\n",
       "      <td>WTF</td>\n",
       "      <td>reddit.com</td>\n",
       "      <td>94708</td>\n",
       "      <td>269354</td>\n",
       "    </tr>\n",
       "    <tr>\n",
       "      <th>...</th>\n",
       "      <td>...</td>\n",
       "      <td>...</td>\n",
       "      <td>...</td>\n",
       "      <td>...</td>\n",
       "      <td>...</td>\n",
       "      <td>...</td>\n",
       "    </tr>\n",
       "    <tr>\n",
       "      <th>318443</th>\n",
       "      <td>[NoPDubClub, johndollarfullofcrap]</td>\n",
       "      <td>1</td>\n",
       "      <td>NoPDubClub</td>\n",
       "      <td>johndollarfullofcrap</td>\n",
       "      <td>5</td>\n",
       "      <td>95</td>\n",
       "    </tr>\n",
       "    <tr>\n",
       "      <th>318445</th>\n",
       "      <td>[Cricket, IPhoneApps]</td>\n",
       "      <td>1</td>\n",
       "      <td>Cricket</td>\n",
       "      <td>IPhoneApps</td>\n",
       "      <td>71</td>\n",
       "      <td>5</td>\n",
       "    </tr>\n",
       "    <tr>\n",
       "      <th>318446</th>\n",
       "      <td>[learnprogramming, nintendo]</td>\n",
       "      <td>1</td>\n",
       "      <td>learnprogramming</td>\n",
       "      <td>nintendo</td>\n",
       "      <td>119</td>\n",
       "      <td>3</td>\n",
       "    </tr>\n",
       "    <tr>\n",
       "      <th>318447</th>\n",
       "      <td>[Life, mentalhealth]</td>\n",
       "      <td>1</td>\n",
       "      <td>Life</td>\n",
       "      <td>mentalhealth</td>\n",
       "      <td>2</td>\n",
       "      <td>2</td>\n",
       "    </tr>\n",
       "    <tr>\n",
       "      <th>911961</th>\n",
       "      <td>[couchsurfing, feminisms]</td>\n",
       "      <td>1</td>\n",
       "      <td>couchsurfing</td>\n",
       "      <td>feminisms</td>\n",
       "      <td>4</td>\n",
       "      <td>1041</td>\n",
       "    </tr>\n",
       "  </tbody>\n",
       "</table>\n",
       "<p>911962 rows × 6 columns</p>\n",
       "</div>"
      ],
      "text/plain": [
       "                             subred_tuples  tuple_count             tup_1  \\\n",
       "146495             [AskReddit, reddit.com]        20289         AskReddit   \n",
       "622572                   [AskReddit, pics]        17855         AskReddit   \n",
       "52086                   [pics, reddit.com]        17146              pics   \n",
       "573606                    [AskReddit, WTF]        13206         AskReddit   \n",
       "256624                   [WTF, reddit.com]        12994               WTF   \n",
       "...                                    ...          ...               ...   \n",
       "318443  [NoPDubClub, johndollarfullofcrap]            1        NoPDubClub   \n",
       "318445               [Cricket, IPhoneApps]            1           Cricket   \n",
       "318446        [learnprogramming, nintendo]            1  learnprogramming   \n",
       "318447                [Life, mentalhealth]            1              Life   \n",
       "911961           [couchsurfing, feminisms]            1      couchsurfing   \n",
       "\n",
       "                       tup_2  tup_1_count  tup_2_count  \n",
       "146495            reddit.com       558862       269354  \n",
       "622572                  pics       558862       170566  \n",
       "52086             reddit.com       170566       269354  \n",
       "573606                   WTF       558862        94708  \n",
       "256624            reddit.com        94708       269354  \n",
       "...                      ...          ...          ...  \n",
       "318443  johndollarfullofcrap            5           95  \n",
       "318445            IPhoneApps           71            5  \n",
       "318446              nintendo          119            3  \n",
       "318447          mentalhealth            2            2  \n",
       "911961             feminisms            4         1041  \n",
       "\n",
       "[911962 rows x 6 columns]"
      ]
     },
     "execution_count": 5,
     "metadata": {},
     "output_type": "execute_result"
    }
   ],
   "source": [
    "parq_data.sort_values(\"tuple_count\", ascending=[False])"
   ]
  },
  {
   "cell_type": "code",
   "execution_count": 27,
   "id": "fb4e7ea7",
   "metadata": {},
   "outputs": [],
   "source": [
    "parq_data = parq_data.iloc[0:25]"
   ]
  },
  {
   "cell_type": "code",
   "execution_count": 28,
   "id": "1254e178",
   "metadata": {},
   "outputs": [],
   "source": [
    "nodes = []\n",
    "count = []\n",
    "for index, row in parq_data.iterrows():\n",
    "    if row[\"tup_1\"] not in nodes:\n",
    "        nodes.append(row[\"tup_1\"])\n",
    "        count.append(row[\"tup_1_count\"])\n",
    "    if row[\"tup_2\"] not in nodes:\n",
    "        nodes.append(row[\"tup_2\"])\n",
    "        count.append(row[\"tup_2_count\"])"
   ]
  },
  {
   "cell_type": "code",
   "execution_count": 30,
   "id": "2b656e41",
   "metadata": {},
   "outputs": [
    {
     "name": "stdout",
     "output_type": "stream",
     "text": [
      "Warning: When  cdn_resources is 'local' jupyter notebook has issues displaying graphics on chrome/safari. Use cdn_resources='in_line' or cdn_resources='remote' if you have issues viewing graphics in a notebook.\n"
     ]
    }
   ],
   "source": [
    "# Create a Pyvis network graph\n",
    "graph = Network(height='700px', width='1000px', bgcolor='#222222', font_color='white',notebook=True)\n",
    "i = 0\n",
    "for item in nodes:\n",
    "    graph.add_node(item, label = item, size = math.log(count[i])*2)\n",
    "    i += 1\n",
    "#Add edges to the graph\n",
    "for index, row in parq_data.iterrows():\n",
    "    graph.add_edge(row[\"tup_1\"], row[\"tup_2\"],weight=math.log(row[\"tuple_count\"])*2)\n",
    "# Show the graph\n",
    "graph.write_html('example.html')"
   ]
  },
  {
   "cell_type": "code",
   "execution_count": 32,
   "id": "6c7c9533",
   "metadata": {},
   "outputs": [],
   "source": [
    "#Strong_Scaling\n",
    "labels = [1,2,3,4,5,6]\n",
    "Actual_runtime_SS = [246.79,217.66,176.63,170.27,196.13,169.74]\n",
    "Perfect_scaling_SS = [246.79,246.79/2,246.79/4,246.79/8,246.79/16,246.79/32]"
   ]
  },
  {
   "cell_type": "code",
   "execution_count": 35,
   "id": "3f7bcc58",
   "metadata": {},
   "outputs": [
    {
     "data": {
      "image/png": "[encoded data removed]",
      "text/plain": [
       "<Figure size 432x288 with 1 Axes>"
      ]
     },
     "metadata": {
      "needs_background": "light"
     },
     "output_type": "display_data"
    }
   ],
   "source": [
    "# Create figure and axis\n",
    "fig, ax = plt.subplots()\n",
    "\n",
    "# Plot lines\n",
    "ax.plot(labels, Actual_runtime_SS, color='blue', label='Actaul_Time', marker='o')\n",
    "ax.plot(labels, Perfect_scaling_SS, color='green', label='Perfect Strong Scaling Time', linestyle='dashed', marker='o')\n",
    "\n",
    "# Set title and axis labels\n",
    "ax.set_title('Strong scaling performance')\n",
    "ax.set_xlabel('Number of cores used')\n",
    "ax.set_ylabel('Time(S)')\n",
    "\n",
    "# Set legend\n",
    "ax.legend()\n",
    "\n",
    "# Show plot\n",
    "plt.show()"
   ]
  },
  {
   "cell_type": "code",
   "execution_count": 36,
   "id": "6c9abe40",
   "metadata": {},
   "outputs": [],
   "source": [
    "#Strong_Scaling\n",
    "labels = [1,2,3,4,5,6]\n",
    "Actual_runtime_WS = [144.29,126.05,144.38,160.2,155.61,193.21]\n",
    "Perfect_runtime_WS = [144.29,144.29,144.29,144.29,144.29,144.29]"
   ]
  },
  {
   "cell_type": "code",
   "execution_count": 38,
   "id": "0b6cb5ea",
   "metadata": {},
   "outputs": [
    {
     "data": {
      "image/png": "[encoded data removed]",
      "text/plain": [
       "<Figure size 432x288 with 1 Axes>"
      ]
     },
     "metadata": {
      "needs_background": "light"
     },
     "output_type": "display_data"
    }
   ],
   "source": [
    "# Create figure and axis\n",
    "fig, ax = plt.subplots()\n",
    "\n",
    "# Plot lines\n",
    "ax.plot(labels, Actual_runtime_WS, color='blue', label='Actaul_Time', marker='o')\n",
    "ax.plot(labels, Perfect_runtime_WS, color='green', label='Perfect weak Scaling Time', linestyle='dashed', marker='o')\n",
    "\n",
    "# Set title and axis labels\n",
    "ax.set_title('Weak scaling performance')\n",
    "ax.set_xlabel('Number of cores used')\n",
    "ax.set_ylabel('Time(S)')\n",
    "\n",
    "# Set legend\n",
    "ax.legend()\n",
    "\n",
    "# Show plot\n",
    "plt.show()"
   ]
  },
  {
   "cell_type": "code",
   "execution_count": null,
   "id": "50e884c2",
   "metadata": {},
   "outputs": [],
   "source": []
  }
 ],
 "metadata": {
  "kernelspec": {
   "display_name": "Python 3 (ipykernel)",
   "language": "python",
   "name": "python3"
  },
  "language_info": {
   "codemirror_mode": {
    "name": "ipython",
    "version": 3
   },
   "file_extension": ".py",
   "mimetype": "text/x-python",
   "name": "python",
   "nbconvert_exporter": "python",
   "pygments_lexer": "ipython3",
   "version": "3.9.7"
  }
 },
 "nbformat": 4,
 "nbformat_minor": 5
}
