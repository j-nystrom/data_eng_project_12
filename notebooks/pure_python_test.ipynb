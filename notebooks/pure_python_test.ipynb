{
 "cells": [
  {
   "cell_type": "code",
   "execution_count": 14,
   "metadata": {
    "collapsed": true
   },
   "outputs": [],
   "source": [
    "# NOTE: This is a temporary notebook used to develop the processing pipeline\n",
    "# while waiting for Spark cluster issues to be resolved\n",
    "# It's using pandas instead of spark"
   ]
  },
  {
   "cell_type": "code",
   "execution_count": 18,
   "outputs": [
    {
     "ename": "ModuleNotFoundError",
     "evalue": "No module named 'jupyter_black'",
     "output_type": "error",
     "traceback": [
      "\u001B[0;31m---------------------------------------------------------------------------\u001B[0m",
      "\u001B[0;31mModuleNotFoundError\u001B[0m                       Traceback (most recent call last)",
      "Cell \u001B[0;32mIn[18], line 1\u001B[0m\n\u001B[0;32m----> 1\u001B[0m \u001B[38;5;28;01mimport\u001B[39;00m \u001B[38;5;21;01mjupyter_black\u001B[39;00m\n\u001B[1;32m      3\u001B[0m jupyter_black\u001B[38;5;241m.\u001B[39mload()\n",
      "\u001B[0;31mModuleNotFoundError\u001B[0m: No module named 'jupyter_black'"
     ]
    }
   ],
   "source": [
    "import jupyter_black\n",
    "\n",
    "jupyter_black.load()"
   ],
   "metadata": {
    "collapsed": false,
    "pycharm": {
     "name": "#%%\n"
    }
   }
  },
  {
   "cell_type": "code",
   "execution_count": null,
   "outputs": [],
   "source": [
    "import pandas as pd\n",
    "\n",
    "df_raw = pd.read_json(\"sample_data.json\", lines=True)\n",
    "df_raw.head(10)"
   ],
   "metadata": {
    "collapsed": false,
    "pycharm": {
     "name": "#%%\n"
    }
   }
  },
  {
   "cell_type": "code",
   "execution_count": 5,
   "outputs": [
    {
     "data": {
      "text/plain": "            author                                               body  \\\n0         Dethcola                                           A quarry   \n1       PennyBotV2  [Salutations! I'm not sure what you said.](htt...   \n2      Sir_Firebum  I got into baseball at about he same time Matt...   \n3        deanzynut                                       FUCKING TORY   \n4  OfullOstomacheO                              I see a water dragon    \n5          PlusOn3  Wait. The Michigan what? Where is this? Is thi...   \n6         yeee_bot                                             ye fam   \n7        grrrrreat  143417804| &gt; United States Anonymous (ID: L...   \n8        psych4191  That is some chicken salad outta chicken shit ...   \n9      fishboy2000                       Does he even know the rules?   \n\n   created_utc  score          subreddit subreddit_id  \n0   1506816000      3           sandiego     t5_2qq2q  \n1   1506816000      3               RWBY     t5_2vhg0  \n2   1506816000      2           baseball     t5_2qm7u  \n3   1506816000     18          2007scape     t5_2wbww  \n4   1506816000      1  mildlyinteresting     t5_2ti4h  \n5   1506816000      1             Cubers     t5_2r6a3  \n6   1506816000      2          teenagers     t5_2rjli  \n7   1506816000      1        4chan4trump     t5_3hds7  \n8   1506816000      2                CFB     t5_2qm9d  \n9   1506816000      1         rugbyunion     t5_2qkbe  ",
      "text/html": "<div>\n<style scoped>\n    .dataframe tbody tr th:only-of-type {\n        vertical-align: middle;\n    }\n\n    .dataframe tbody tr th {\n        vertical-align: top;\n    }\n\n    .dataframe thead th {\n        text-align: right;\n    }\n</style>\n<table border=\"1\" class=\"dataframe\">\n  <thead>\n    <tr style=\"text-align: right;\">\n      <th></th>\n      <th>author</th>\n      <th>body</th>\n      <th>created_utc</th>\n      <th>score</th>\n      <th>subreddit</th>\n      <th>subreddit_id</th>\n    </tr>\n  </thead>\n  <tbody>\n    <tr>\n      <th>0</th>\n      <td>Dethcola</td>\n      <td>A quarry</td>\n      <td>1506816000</td>\n      <td>3</td>\n      <td>sandiego</td>\n      <td>t5_2qq2q</td>\n    </tr>\n    <tr>\n      <th>1</th>\n      <td>PennyBotV2</td>\n      <td>[Salutations! I'm not sure what you said.](htt...</td>\n      <td>1506816000</td>\n      <td>3</td>\n      <td>RWBY</td>\n      <td>t5_2vhg0</td>\n    </tr>\n    <tr>\n      <th>2</th>\n      <td>Sir_Firebum</td>\n      <td>I got into baseball at about he same time Matt...</td>\n      <td>1506816000</td>\n      <td>2</td>\n      <td>baseball</td>\n      <td>t5_2qm7u</td>\n    </tr>\n    <tr>\n      <th>3</th>\n      <td>deanzynut</td>\n      <td>FUCKING TORY</td>\n      <td>1506816000</td>\n      <td>18</td>\n      <td>2007scape</td>\n      <td>t5_2wbww</td>\n    </tr>\n    <tr>\n      <th>4</th>\n      <td>OfullOstomacheO</td>\n      <td>I see a water dragon</td>\n      <td>1506816000</td>\n      <td>1</td>\n      <td>mildlyinteresting</td>\n      <td>t5_2ti4h</td>\n    </tr>\n    <tr>\n      <th>5</th>\n      <td>PlusOn3</td>\n      <td>Wait. The Michigan what? Where is this? Is thi...</td>\n      <td>1506816000</td>\n      <td>1</td>\n      <td>Cubers</td>\n      <td>t5_2r6a3</td>\n    </tr>\n    <tr>\n      <th>6</th>\n      <td>yeee_bot</td>\n      <td>ye fam</td>\n      <td>1506816000</td>\n      <td>2</td>\n      <td>teenagers</td>\n      <td>t5_2rjli</td>\n    </tr>\n    <tr>\n      <th>7</th>\n      <td>grrrrreat</td>\n      <td>143417804| &amp;gt; United States Anonymous (ID: L...</td>\n      <td>1506816000</td>\n      <td>1</td>\n      <td>4chan4trump</td>\n      <td>t5_3hds7</td>\n    </tr>\n    <tr>\n      <th>8</th>\n      <td>psych4191</td>\n      <td>That is some chicken salad outta chicken shit ...</td>\n      <td>1506816000</td>\n      <td>2</td>\n      <td>CFB</td>\n      <td>t5_2qm9d</td>\n    </tr>\n    <tr>\n      <th>9</th>\n      <td>fishboy2000</td>\n      <td>Does he even know the rules?</td>\n      <td>1506816000</td>\n      <td>1</td>\n      <td>rugbyunion</td>\n      <td>t5_2qkbe</td>\n    </tr>\n  </tbody>\n</table>\n</div>"
     },
     "execution_count": 5,
     "metadata": {},
     "output_type": "execute_result"
    }
   ],
   "source": [
    "# Step 1: Filter out columns that will not be used\n",
    "\n",
    "cols_to_keep = [\"author\", \"body\", \"created_utc\", \"score\", \"subreddit\", \"subreddit_id\"]\n",
    "\n",
    "df_reddit = df_raw[cols_to_keep]\n",
    "df_reddit.head(10)"
   ],
   "metadata": {
    "collapsed": false,
    "pycharm": {
     "name": "#%%\n"
    }
   }
  },
  {
   "cell_type": "code",
   "execution_count": 19,
   "outputs": [
    {
     "data": {
      "text/plain": "      subreddit  count\n0  1200isplenty      1\n1     2007scape     22\n2  2meirl4meirl      5\n3           3DS      1\n4    3Dprinting      3\n5           3d6      1\n6      3dshacks      4\n7       40kLore      5\n8         49ers      2\n9  4PanelCringe      1",
      "text/html": "<div>\n<style scoped>\n    .dataframe tbody tr th:only-of-type {\n        vertical-align: middle;\n    }\n\n    .dataframe tbody tr th {\n        vertical-align: top;\n    }\n\n    .dataframe thead th {\n        text-align: right;\n    }\n</style>\n<table border=\"1\" class=\"dataframe\">\n  <thead>\n    <tr style=\"text-align: right;\">\n      <th></th>\n      <th>subreddit</th>\n      <th>count</th>\n    </tr>\n  </thead>\n  <tbody>\n    <tr>\n      <th>0</th>\n      <td>1200isplenty</td>\n      <td>1</td>\n    </tr>\n    <tr>\n      <th>1</th>\n      <td>2007scape</td>\n      <td>22</td>\n    </tr>\n    <tr>\n      <th>2</th>\n      <td>2meirl4meirl</td>\n      <td>5</td>\n    </tr>\n    <tr>\n      <th>3</th>\n      <td>3DS</td>\n      <td>1</td>\n    </tr>\n    <tr>\n      <th>4</th>\n      <td>3Dprinting</td>\n      <td>3</td>\n    </tr>\n    <tr>\n      <th>5</th>\n      <td>3d6</td>\n      <td>1</td>\n    </tr>\n    <tr>\n      <th>6</th>\n      <td>3dshacks</td>\n      <td>4</td>\n    </tr>\n    <tr>\n      <th>7</th>\n      <td>40kLore</td>\n      <td>5</td>\n    </tr>\n    <tr>\n      <th>8</th>\n      <td>49ers</td>\n      <td>2</td>\n    </tr>\n    <tr>\n      <th>9</th>\n      <td>4PanelCringe</td>\n      <td>1</td>\n    </tr>\n  </tbody>\n</table>\n</div>"
     },
     "execution_count": 19,
     "metadata": {},
     "output_type": "execute_result"
    }
   ],
   "source": [
    "# Step 2.1: Count the biggest subreddits (by number of posts)\n",
    "\n",
    "df_subred_count = pd.DataFrame(df_reddit.groupby(\"subreddit\")[\"author\"].count()).reset_index().rename(mapper={\"author\": \"count\"}, axis=\"columns\")\n",
    "df_subred_count.head(10)"
   ],
   "metadata": {
    "collapsed": false,
    "pycharm": {
     "name": "#%%\n"
    }
   }
  },
  {
   "cell_type": "code",
   "execution_count": 24,
   "outputs": [
    {
     "name": "stdout",
     "output_type": "stream",
     "text": [
      "['AskReddit', 'CFB', 'CrazyIdeas', 'news', 'ConciseIAmA', '4chan4trump', 'politics', 'RocketLeagueExchange', 'nba', 'The_Donald', 'edc_raffle', 'worldnews', 'funny', 'teenagers', 'leagueoflegends', 'Ice_Poseidon', 'DestinyTheGame', 'pics', 'hockey', 'nfl', 'gaming', 'videos', 'baseball', 'Jokes', 'Fireteams', 'rugbyunion', 'SquaredCircle', 'pcmasterrace', 'anime', 'relationships', 'LifeProTips', 'gifs', 'PoliticalHumor', 'fantasyfootball', 'MLS', 'Showerthoughts', 'DotA2', 'Rainbow6', 'MMA', 'mildlyinteresting', 'PUBATTLEGROUNDS', 'exmormon', 'europe', 'gonewild', 'movies', 'neoliberal', 'FireEmblemHeroes', 'aww', 'Overwatch', 'todayilearned', 'RocketLeague', 'GlobalOffensive', 'rupaulsdragrace', 'conspiracy', 'NBA2k', 'FIFA', '2007scape', 'btc', 'cars', 'soccer', 'hiphopheads', 'PS4', 'ChapoTrapHouse', 'FFBraveExvius', 'ffxiv', 'MaddenUltimateTeam', 'Guildwars2', 'CringeAnarchy', 'Bitcoin', 'magicTCG', 'food', 'sports', 'totalwar', 'destiny2', 'ColoradoRockies', 'CasualConversation', 'personalfinance', 'buildapc', 'xboxone', 'Conservative', 'NintendoSwitch', 'hearthstone', 'hardwareswap', 'Incels', 'legaladvice', 'canada', 'grandorder', 'nintendo', 'trees', 'WTF', 'Habs', 'smashbros', 'Whatcouldgowrong', 'pokemontrades', 'UnethicalLifeProTips', 'stopdrinking', 'Warframe', 'NASCAR', 'vegan', 'freefolk']\n"
     ]
    }
   ],
   "source": [
    "# Step 2.2: Get list with top 100 subreddit ids\n",
    "\n",
    "subs_to_incl = 100\n",
    "\n",
    "df_top_subs = df_subred_count.sort_values(by=\"count\", ascending=False).iloc[0:subs_to_incl]\n",
    "top_subs = df_top_subs[\"subreddit\"].tolist()\n",
    "print(top_subs)"
   ],
   "metadata": {
    "collapsed": false,
    "pycharm": {
     "name": "#%%\n"
    }
   }
  },
  {
   "cell_type": "code",
   "execution_count": 26,
   "outputs": [
    {
     "data": {
      "text/plain": "                author                                               body  \\\n2          Sir_Firebum  I got into baseball at about he same time Matt...   \n3            deanzynut                                       FUCKING TORY   \n4      OfullOstomacheO                              I see a water dragon    \n6             yeee_bot                                             ye fam   \n7            grrrrreat  143417804| &gt; United States Anonymous (ID: L...   \n8            psych4191  That is some chicken salad outta chicken shit ...   \n9          fishboy2000                       Does he even know the rules?   \n10    raspberryseltzer                                           Tequila.   \n13      GonadusTwistus  you're really ignorant of history then.  like ...   \n14  ithinkisaidtoomuch         lets see how deep this rabbit hole goes...   \n\n    created_utc  score          subreddit subreddit_id  \n2    1506816000      2           baseball     t5_2qm7u  \n3    1506816000     18          2007scape     t5_2wbww  \n4    1506816000      1  mildlyinteresting     t5_2ti4h  \n6    1506816000      2          teenagers     t5_2rjli  \n7    1506816000      1        4chan4trump     t5_3hds7  \n8    1506816000      2                CFB     t5_2qm9d  \n9    1506816000      1         rugbyunion     t5_2qkbe  \n10   1506816000      2                CFB     t5_2qm9d  \n13   1506816000      2         The_Donald     t5_38unr  \n14   1506816000      1         CrazyIdeas     t5_2snxj  ",
      "text/html": "<div>\n<style scoped>\n    .dataframe tbody tr th:only-of-type {\n        vertical-align: middle;\n    }\n\n    .dataframe tbody tr th {\n        vertical-align: top;\n    }\n\n    .dataframe thead th {\n        text-align: right;\n    }\n</style>\n<table border=\"1\" class=\"dataframe\">\n  <thead>\n    <tr style=\"text-align: right;\">\n      <th></th>\n      <th>author</th>\n      <th>body</th>\n      <th>created_utc</th>\n      <th>score</th>\n      <th>subreddit</th>\n      <th>subreddit_id</th>\n    </tr>\n  </thead>\n  <tbody>\n    <tr>\n      <th>2</th>\n      <td>Sir_Firebum</td>\n      <td>I got into baseball at about he same time Matt...</td>\n      <td>1506816000</td>\n      <td>2</td>\n      <td>baseball</td>\n      <td>t5_2qm7u</td>\n    </tr>\n    <tr>\n      <th>3</th>\n      <td>deanzynut</td>\n      <td>FUCKING TORY</td>\n      <td>1506816000</td>\n      <td>18</td>\n      <td>2007scape</td>\n      <td>t5_2wbww</td>\n    </tr>\n    <tr>\n      <th>4</th>\n      <td>OfullOstomacheO</td>\n      <td>I see a water dragon</td>\n      <td>1506816000</td>\n      <td>1</td>\n      <td>mildlyinteresting</td>\n      <td>t5_2ti4h</td>\n    </tr>\n    <tr>\n      <th>6</th>\n      <td>yeee_bot</td>\n      <td>ye fam</td>\n      <td>1506816000</td>\n      <td>2</td>\n      <td>teenagers</td>\n      <td>t5_2rjli</td>\n    </tr>\n    <tr>\n      <th>7</th>\n      <td>grrrrreat</td>\n      <td>143417804| &amp;gt; United States Anonymous (ID: L...</td>\n      <td>1506816000</td>\n      <td>1</td>\n      <td>4chan4trump</td>\n      <td>t5_3hds7</td>\n    </tr>\n    <tr>\n      <th>8</th>\n      <td>psych4191</td>\n      <td>That is some chicken salad outta chicken shit ...</td>\n      <td>1506816000</td>\n      <td>2</td>\n      <td>CFB</td>\n      <td>t5_2qm9d</td>\n    </tr>\n    <tr>\n      <th>9</th>\n      <td>fishboy2000</td>\n      <td>Does he even know the rules?</td>\n      <td>1506816000</td>\n      <td>1</td>\n      <td>rugbyunion</td>\n      <td>t5_2qkbe</td>\n    </tr>\n    <tr>\n      <th>10</th>\n      <td>raspberryseltzer</td>\n      <td>Tequila.</td>\n      <td>1506816000</td>\n      <td>2</td>\n      <td>CFB</td>\n      <td>t5_2qm9d</td>\n    </tr>\n    <tr>\n      <th>13</th>\n      <td>GonadusTwistus</td>\n      <td>you're really ignorant of history then.  like ...</td>\n      <td>1506816000</td>\n      <td>2</td>\n      <td>The_Donald</td>\n      <td>t5_38unr</td>\n    </tr>\n    <tr>\n      <th>14</th>\n      <td>ithinkisaidtoomuch</td>\n      <td>lets see how deep this rabbit hole goes...</td>\n      <td>1506816000</td>\n      <td>1</td>\n      <td>CrazyIdeas</td>\n      <td>t5_2snxj</td>\n    </tr>\n  </tbody>\n</table>\n</div>"
     },
     "execution_count": 26,
     "metadata": {},
     "output_type": "execute_result"
    }
   ],
   "source": [
    "# Step 3.1: Filter data to only contain top subreddits\n",
    "\n",
    "df_sub_filtered = df_reddit.loc[df_reddit[\"subreddit\"].isin(top_subs)]\n",
    "df_sub_filtered.head(10)"
   ],
   "metadata": {
    "collapsed": false,
    "pycharm": {
     "name": "#%%\n"
    }
   }
  },
  {
   "cell_type": "code",
   "execution_count": null,
   "outputs": [],
   "source": [],
   "metadata": {
    "collapsed": false,
    "pycharm": {
     "name": "#%%\n"
    }
   }
  },
  {
   "cell_type": "code",
   "execution_count": null,
   "outputs": [],
   "source": [],
   "metadata": {
    "collapsed": false,
    "pycharm": {
     "name": "#%%\n"
    }
   }
  }
 ],
 "metadata": {
  "kernelspec": {
   "display_name": "Python 3",
   "language": "python",
   "name": "python3"
  },
  "language_info": {
   "codemirror_mode": {
    "name": "ipython",
    "version": 2
   },
   "file_extension": ".py",
   "mimetype": "text/x-python",
   "name": "python",
   "nbconvert_exporter": "python",
   "pygments_lexer": "ipython2",
   "version": "2.7.6"
  }
 },
 "nbformat": 4,
 "nbformat_minor": 0
}