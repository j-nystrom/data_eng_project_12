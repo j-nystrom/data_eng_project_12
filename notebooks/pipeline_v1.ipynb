{
 "cells": [
  {
   "cell_type": "code",
   "execution_count": 1,
   "metadata": {
    "collapsed": true
   },
   "outputs": [
    {
     "name": "stderr",
     "output_type": "stream",
     "text": [
      "WARNING: An illegal reflective access operation has occurred\n",
      "WARNING: Illegal reflective access by org.apache.spark.unsafe.Platform (file:/home/ubuntu/.local/lib/python3.10/site-packages/pyspark/jars/spark-unsafe_2.12-3.2.3.jar) to constructor java.nio.DirectByteBuffer(long,int)\n",
      "WARNING: Please consider reporting this to the maintainers of org.apache.spark.unsafe.Platform\n",
      "WARNING: Use --illegal-access=warn to enable warnings of further illegal reflective access operations\n",
      "WARNING: All illegal access operations will be denied in a future release"
     ]
    }
   ],
   "source": [
    "# Connect to the cluster and initiate spark session\n",
    "\n",
    "from pyspark.sql import SparkSession\n",
    "\n",
    "spark_session = SparkSession.builder\\\n",
    ".master(\"spark://192.168.2.19:7077\") \\\n",
    ".appName(\"test_1\")\\\n",
    ".config(\"spark.cores.max\", 1)\\\n",
    ".config(\"spark.ui.showConsoleProgress\", False)\\\n",
    ".getOrCreate()\n",
    "#.config(\"spark.dynamicAllocation.enabled\", True)\\\n",
    "#.config(\"spark.dynamicAllocation.shuffleTracking.enabled\",True)\\\n",
    "#.config(\"spark.shuffle.service.enabled\", True)\\\n",
    "#.config(\"spark.dynamicAllocation.executorIdleTimeout\", \"30s\")\\"
   ]
  },
  {
   "cell_type": "code",
   "execution_count": null,
   "outputs": [],
   "source": [
    "spark_session.stop()"
   ],
   "metadata": {
    "collapsed": false,
    "pycharm": {
     "name": "#%%\n",
     "is_executing": true
    }
   }
  },
  {
   "cell_type": "code",
   "execution_count": null,
   "outputs": [],
   "source": [
    "# Import black for code formatting\n",
    "\n",
    "%load_ext nb_black"
   ],
   "metadata": {
    "collapsed": false,
    "pycharm": {
     "name": "#%%\n"
    }
   }
  },
  {
   "cell_type": "code",
   "execution_count": null,
   "outputs": [],
   "source": [
    "# Load data and infer schema automatically from json keys\n",
    "\n",
    "df_raw = spark_session.read.options(multiline=True, header=True, inferSchema=True).json(\n",
    "    \"sample_data.json\"\n",
    ")\n",
    "df_raw.show(10)"
   ],
   "metadata": {
    "collapsed": false,
    "pycharm": {
     "name": "#%%\n",
     "is_executing": true
    }
   }
  },
  {
   "cell_type": "code",
   "execution_count": null,
   "outputs": [],
   "source": [
    "# Print to inspect schema\n",
    "\n",
    "df_raw.printSchema()"
   ],
   "metadata": {
    "collapsed": false,
    "pycharm": {
     "name": "#%%\n",
     "is_executing": true
    }
   }
  },
  {
   "cell_type": "code",
   "execution_count": null,
   "outputs": [],
   "source": [
    "# Step 1: Filter out columns that will not be used\n",
    "\n",
    "cols_to_keep = [\"author\", \"body\", \"created_utc\", \"score\", \"subreddit\", \"subreddit_id\"]\n",
    "\n",
    "df_reddit = df_raw.select([col for col in cols_to_keep])"
   ],
   "metadata": {
    "collapsed": false,
    "pycharm": {
     "name": "#%%\n"
    }
   }
  },
  {
   "cell_type": "code",
   "execution_count": null,
   "outputs": [],
   "source": [
    "# Step 2.1: Count the biggest subreddits (by number of posts)\n",
    "\n",
    "df_subred_count = df_reddit.groupBy(\"subreddit_id\").count()"
   ],
   "metadata": {
    "collapsed": false,
    "pycharm": {
     "name": "#%%\n"
    }
   }
  },
  {
   "cell_type": "code",
   "execution_count": null,
   "outputs": [],
   "source": [
    "# Step 2.2: Get list with top 100 subreddit ids\n",
    "\n",
    "import pandas as pd\n",
    "\n",
    "df_count_pd = df_subred_count.toPandas()\n",
    "\n",
    "subs_to_incl = 100\n",
    "\n",
    "df_top_subs = df_count_pd.sort_values(by=\"count\", ascending=False).iloc[0:subs_to_incl]\n",
    "top_subs = df_top_subs[\"subreddit\"].tolist()\n",
    "print(top_subs)"
   ],
   "metadata": {
    "collapsed": false,
    "pycharm": {
     "name": "#%%\n"
    }
   }
  },
  {
   "cell_type": "code",
   "execution_count": null,
   "outputs": [],
   "source": [
    "# Step 3.1: Filter data to only contain top subreddits\n",
    "\n"
   ],
   "metadata": {
    "collapsed": false,
    "pycharm": {
     "name": "#%%\n"
    }
   }
  },
  {
   "cell_type": "code",
   "execution_count": null,
   "outputs": [],
   "source": [
    "# Step 3.1: Find out who are active users\n",
    "\n",
    "df_user_count = df_reddit.groupBy(\"author\").count()"
   ],
   "metadata": {
    "collapsed": false,
    "pycharm": {
     "name": "#%%\n"
    }
   }
  },
  {
   "cell_type": "code",
   "execution_count": null,
   "outputs": [],
   "source": [
    "# Step 3.2: Keep only users who have posted more than 10 times\n",
    "\n"
   ],
   "metadata": {
    "collapsed": false,
    "pycharm": {
     "name": "#%%\n"
    }
   }
  }
 ],
 "metadata": {
  "kernelspec": {
   "display_name": "Python 3",
   "language": "python",
   "name": "python3"
  },
  "language_info": {
   "codemirror_mode": {
    "name": "ipython",
    "version": 2
   },
   "file_extension": ".py",
   "mimetype": "text/x-python",
   "name": "python",
   "nbconvert_exporter": "python",
   "pygments_lexer": "ipython2",
   "version": "2.7.6"
  }
 },
 "nbformat": 4,
 "nbformat_minor": 0
}