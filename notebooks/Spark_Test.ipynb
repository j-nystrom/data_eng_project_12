{
    "cells": [
        {
            "cell_type": "code",
            "execution_count": null,
            "outputs": [],
            "source": ["from pyspark.sql import SparkSession"],
            "metadata": {"collapsed": false, "pycharm": {"name": "#%%\n"}},
        },
        {
            "cell_type": "markdown",
            "source": [],
            "metadata": {"collapsed": false, "pycharm": {"name": "#%% md\n"}},
        },
        {
            "cell_type": "code",
            "execution_count": null,
            "outputs": [],
            "source": [
                'spark_session = SparkSession.builder.master("spark://10.0.0.13:7077").appName("Group_12_RDD").config("spark.dynamicAllocation.enabled", True).config("spark.dynamicAllocation.shuffleTracking.enabled",True).config("spark.shuffle.service.enabled", True).config("spark.dynamicAllocation.executorIdleTimeout","30s").config("spark.cores.max", 4).getOrCreate()'
            ],
            "metadata": {"collapsed": false, "pycharm": {"name": "#%%\n"}},
        },
        {
            "cell_type": "code",
            "execution_count": 3,
            "outputs": [],
            "source": ["spark_session.stop()"],
            "metadata": {"collapsed": false, "pycharm": {"name": "#%%\n"}},
        },
    ],
    "metadata": {
        "kernelspec": {
            "display_name": "Python 3",
            "language": "python",
            "name": "python3",
        },
        "language_info": {
            "codemirror_mode": {"name": "ipython", "version": 2},
            "file_extension": ".py",
            "mimetype": "text/x-python",
            "name": "python",
            "nbconvert_exporter": "python",
            "pygments_lexer": "ipython2",
            "version": "2.7.6",
        },
    },
    "nbformat": 4,
    "nbformat_minor": 0,
}
