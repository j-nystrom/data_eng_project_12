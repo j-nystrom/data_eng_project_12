{
 "cells": [
  {
   "cell_type": "code",
   "execution_count": 1,
   "id": "003e6e77",
   "metadata": {},
   "outputs": [
    {
     "name": "stdout",
     "output_type": "stream",
     "text": [
      "Requirement already satisfied: pyvis in c:\\users\\pssar\\anaconda3\\lib\\site-packages (0.3.2)\n",
      "Requirement already satisfied: networkx>=1.11 in c:\\users\\pssar\\anaconda3\\lib\\site-packages (from pyvis) (2.6.3)\n",
      "Requirement already satisfied: jinja2>=2.9.6 in c:\\users\\pssar\\anaconda3\\lib\\site-packages (from pyvis) (2.11.3)\n",
      "Requirement already satisfied: ipython>=5.3.0 in c:\\users\\pssar\\anaconda3\\lib\\site-packages (from pyvis) (7.29.0)\n",
      "Requirement already satisfied: jsonpickle>=1.4.1 in c:\\users\\pssar\\anaconda3\\lib\\site-packages (from pyvis) (3.0.1)\n",
      "Requirement already satisfied: jedi>=0.16 in c:\\users\\pssar\\anaconda3\\lib\\site-packages (from ipython>=5.3.0->pyvis) (0.18.0)\n",
      "Requirement already satisfied: pickleshare in c:\\users\\pssar\\anaconda3\\lib\\site-packages (from ipython>=5.3.0->pyvis) (0.7.5)\n",
      "Requirement already satisfied: traitlets>=4.2 in c:\\users\\pssar\\anaconda3\\lib\\site-packages (from ipython>=5.3.0->pyvis) (5.1.0)\n",
      "Requirement already satisfied: setuptools>=18.5 in c:\\users\\pssar\\anaconda3\\lib\\site-packages (from ipython>=5.3.0->pyvis) (58.0.4)\n",
      "Requirement already satisfied: matplotlib-inline in c:\\users\\pssar\\anaconda3\\lib\\site-packages (from ipython>=5.3.0->pyvis) (0.1.2)\n",
      "Requirement already satisfied: prompt-toolkit!=3.0.0,!=3.0.1,<3.1.0,>=2.0.0 in c:\\users\\pssar\\anaconda3\\lib\\site-packages (from ipython>=5.3.0->pyvis) (3.0.20)\n",
      "Requirement already satisfied: backcall in c:\\users\\pssar\\anaconda3\\lib\\site-packages (from ipython>=5.3.0->pyvis) (0.2.0)\n",
      "Requirement already satisfied: pygments in c:\\users\\pssar\\anaconda3\\lib\\site-packages (from ipython>=5.3.0->pyvis) (2.10.0)\n",
      "Requirement already satisfied: decorator in c:\\users\\pssar\\anaconda3\\lib\\site-packages (from ipython>=5.3.0->pyvis) (5.1.0)\n",
      "Requirement already satisfied: colorama in c:\\users\\pssar\\anaconda3\\lib\\site-packages (from ipython>=5.3.0->pyvis) (0.4.4)\n",
      "Requirement already satisfied: parso<0.9.0,>=0.8.0 in c:\\users\\pssar\\anaconda3\\lib\\site-packages (from jedi>=0.16->ipython>=5.3.0->pyvis) (0.8.2)\n",
      "Requirement already satisfied: MarkupSafe>=0.23 in c:\\users\\pssar\\anaconda3\\lib\\site-packages (from jinja2>=2.9.6->pyvis) (1.1.1)\n",
      "Requirement already satisfied: wcwidth in c:\\users\\pssar\\anaconda3\\lib\\site-packages (from prompt-toolkit!=3.0.0,!=3.0.1,<3.1.0,>=2.0.0->ipython>=5.3.0->pyvis) (0.2.5)\n",
      "Note: you may need to restart the kernel to use updated packages.\n"
     ]
    }
   ],
   "source": [
    "pip install pyvis"
   ]
  },
  {
   "cell_type": "code",
   "execution_count": 11,
   "id": "4810326a",
   "metadata": {},
   "outputs": [],
   "source": [
    "tup_1 = [\"AskReddit\",\"AskReddit\",\"AskReddit\",\"AskReddit\",\"AskReddit\"]\n",
    "tuple_count = [5,3,3,3,3]\n",
    "tup_2 = [\"Showerthoughts\",\"Mildyinteresting\",\"Ploitics\",\"Personal finance\",\"Gaming\"]\n",
    "tup_1_count = [486,486,486,486,486]\n",
    "tupl_2_count = [34,33,117,19,51]\n",
    "subreddits = [(\"AskReddit\",\"Showerthoughts\"),(\"AskReddit\",\"Mildyinteresting\"),(\"AskReddit\",\"Ploitics\"),(\"AskReddit\",\"Personal finance\"),(\"AskReddit\",\"Gaming\")]\n",
    "data = {\"subreddits\":subreddits,\"tuple_count\":tuple_count,\"tup_1\":tup_1,\"tup_2\":tup_2,\"tup_1_count\":tup_1_count,\"tup_2_count\":tupl_2_count}\n",
    "df = pd.DataFrame(data)"
   ]
  },
  {
   "cell_type": "code",
   "execution_count": 12,
   "id": "c81da700",
   "metadata": {},
   "outputs": [
    {
     "data": {
      "text/html": [
       "<div>\n",
       "<style scoped>\n",
       "    .dataframe tbody tr th:only-of-type {\n",
       "        vertical-align: middle;\n",
       "    }\n",
       "\n",
       "    .dataframe tbody tr th {\n",
       "        vertical-align: top;\n",
       "    }\n",
       "\n",
       "    .dataframe thead th {\n",
       "        text-align: right;\n",
       "    }\n",
       "</style>\n",
       "<table border=\"1\" class=\"dataframe\">\n",
       "  <thead>\n",
       "    <tr style=\"text-align: right;\">\n",
       "      <th></th>\n",
       "      <th>subreddits</th>\n",
       "      <th>tuple_count</th>\n",
       "      <th>tup_1</th>\n",
       "      <th>tup_2</th>\n",
       "      <th>tup_1_count</th>\n",
       "      <th>tup_2_count</th>\n",
       "    </tr>\n",
       "  </thead>\n",
       "  <tbody>\n",
       "    <tr>\n",
       "      <th>0</th>\n",
       "      <td>(AskReddit, Showerthoughts)</td>\n",
       "      <td>5</td>\n",
       "      <td>AskReddit</td>\n",
       "      <td>Showerthoughts</td>\n",
       "      <td>486</td>\n",
       "      <td>34</td>\n",
       "    </tr>\n",
       "    <tr>\n",
       "      <th>1</th>\n",
       "      <td>(AskReddit, Mildyinteresting)</td>\n",
       "      <td>3</td>\n",
       "      <td>AskReddit</td>\n",
       "      <td>Mildyinteresting</td>\n",
       "      <td>486</td>\n",
       "      <td>33</td>\n",
       "    </tr>\n",
       "    <tr>\n",
       "      <th>2</th>\n",
       "      <td>(AskReddit, Ploitics)</td>\n",
       "      <td>3</td>\n",
       "      <td>AskReddit</td>\n",
       "      <td>Ploitics</td>\n",
       "      <td>486</td>\n",
       "      <td>117</td>\n",
       "    </tr>\n",
       "    <tr>\n",
       "      <th>3</th>\n",
       "      <td>(AskReddit, Personal finance)</td>\n",
       "      <td>3</td>\n",
       "      <td>AskReddit</td>\n",
       "      <td>Personal finance</td>\n",
       "      <td>486</td>\n",
       "      <td>19</td>\n",
       "    </tr>\n",
       "    <tr>\n",
       "      <th>4</th>\n",
       "      <td>(AskReddit, Gaming)</td>\n",
       "      <td>3</td>\n",
       "      <td>AskReddit</td>\n",
       "      <td>Gaming</td>\n",
       "      <td>486</td>\n",
       "      <td>51</td>\n",
       "    </tr>\n",
       "  </tbody>\n",
       "</table>\n",
       "</div>"
      ],
      "text/plain": [
       "                      subreddits  tuple_count      tup_1             tup_2  \\\n",
       "0    (AskReddit, Showerthoughts)            5  AskReddit    Showerthoughts   \n",
       "1  (AskReddit, Mildyinteresting)            3  AskReddit  Mildyinteresting   \n",
       "2          (AskReddit, Ploitics)            3  AskReddit          Ploitics   \n",
       "3  (AskReddit, Personal finance)            3  AskReddit  Personal finance   \n",
       "4            (AskReddit, Gaming)            3  AskReddit            Gaming   \n",
       "\n",
       "   tup_1_count  tup_2_count  \n",
       "0          486           34  \n",
       "1          486           33  \n",
       "2          486          117  \n",
       "3          486           19  \n",
       "4          486           51  "
      ]
     },
     "execution_count": 12,
     "metadata": {},
     "output_type": "execute_result"
    }
   ],
   "source": [
    "df"
   ]
  },
  {
   "cell_type": "code",
   "execution_count": 7,
   "id": "25e8f087",
   "metadata": {},
   "outputs": [],
   "source": [
    "nodes = []\n",
    "count = []\n",
    "for index, row in df.iterrows():\n",
    "    if row[\"tup_1\"] not in nodes:\n",
    "        nodes.append(row[\"tup_1\"])\n",
    "        count.append(row[\"tup_1_count\"])\n",
    "    if row[\"tup_2\"] not in nodes:\n",
    "        nodes.append(row[\"tup_2\"])\n",
    "        count.append(row[\"tup_2_count\"])"
   ]
  },
  {
   "cell_type": "code",
   "execution_count": 15,
   "id": "64edaba2",
   "metadata": {},
   "outputs": [
    {
     "name": "stdout",
     "output_type": "stream",
     "text": [
      "Warning: When  cdn_resources is 'local' jupyter notebook has issues displaying graphics on chrome/safari. Use cdn_resources='in_line' or cdn_resources='remote' if you have issues viewing graphics in a notebook.\n",
      "example.html\n"
     ]
    },
    {
     "data": {
      "text/html": [
       "\n",
       "        <iframe\n",
       "            width=\"800px\"\n",
       "            height=\"400px\"\n",
       "            src=\"example.html\"\n",
       "            frameborder=\"0\"\n",
       "            allowfullscreen\n",
       "            \n",
       "        ></iframe>\n",
       "        "
      ],
      "text/plain": [
       "<IPython.lib.display.IFrame at 0x26c9fd24dc0>"
      ]
     },
     "execution_count": 15,
     "metadata": {},
     "output_type": "execute_result"
    }
   ],
   "source": [
    "# Create a Pyvis network graph\n",
    "graph = Network(height='400px', width='800px', bgcolor='#222222', font_color='white',notebook=True)\n",
    "i = 0\n",
    "for item in nodes:\n",
    "    graph.add_node(item, label = item, size = math.log(count[i]))\n",
    "    i += 1\n",
    "# Add edges to the graph\n",
    "for index, row in df.iterrows():\n",
    "    connections = row['subreddits']\n",
    "    if connections != 'NaN':\n",
    "        graph.add_edge(connections[0], connections[1],title=row[\"tuple_count\"])\n",
    "# Show the graph\n",
    "graph.show('example.html')"
   ]
  },
  {
   "cell_type": "code",
   "execution_count": null,
   "id": "176ab22f",
   "metadata": {},
   "outputs": [],
   "source": []
  }
 ],
 "metadata": {
  "kernelspec": {
   "display_name": "Python 3 (ipykernel)",
   "language": "python",
   "name": "python3"
  },
  "language_info": {
   "codemirror_mode": {
    "name": "ipython",
    "version": 3
   },
   "file_extension": ".py",
   "mimetype": "text/x-python",
   "name": "python",
   "nbconvert_exporter": "python",
   "pygments_lexer": "ipython3",
   "version": "3.9.7"
  }
 },
 "nbformat": 4,
 "nbformat_minor": 5
}
